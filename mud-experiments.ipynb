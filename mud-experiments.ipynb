{
 "cells": [
  {
   "cell_type": "code",
   "execution_count": null,
   "metadata": {},
   "outputs": [],
   "source": [
    "!git checkout -- .\n",
    "!git pull"
   ]
  },
  {
   "cell_type": "code",
   "execution_count": null,
   "metadata": {},
   "outputs": [],
   "source": [
    "!pip install tiktoken"
   ]
  },
  {
   "cell_type": "code",
   "execution_count": null,
   "metadata": {},
   "outputs": [],
   "source": [
    "!pip freeze | grep -E 'torch|numpy|transformers|datasets|tiktoken|wandb|tqdm'"
   ]
  },
  {
   "cell_type": "code",
   "execution_count": null,
   "metadata": {},
   "outputs": [],
   "source": [
    "!python data/mud_data/prepare.py"
   ]
  },
  {
   "cell_type": "code",
   "execution_count": null,
   "metadata": {},
   "outputs": [],
   "source": [
    "!python train.py config/mud-config.py"
   ]
  },
  {
   "cell_type": "code",
   "execution_count": 10,
   "metadata": {},
   "outputs": [
    {
     "name": "stdout",
     "output_type": "stream",
     "text": [
      "Overriding: out_dir = out-mud-experiment\n",
      "number of parameters: 10.73M\n",
      "Loading meta from data/mud_data/meta.pkl...\n",
      "<|startctx|> oeld standineand overlosee to the the on easterr shhean is ing bridge's western foundation. If you go west you will be back\n",
      "on solid ground ...\n",
      "The bridge creaks under your feeelanom pf, roos magives dot it down. The oute cld bridge creaks uter your felet. Those stling around, maybe you'llllll betow . <|endctx|> l old bridge\n",
      "The bridge\n",
      "? ge ppe slast of whe bridge sways precariously it extends eastwarioingends towards the cest lif you  goin . ... The <|endctx|> gue <|startctx|> The old brid bridge\n",
      "You are standing very close to the the the bridge's weastern foundation. If you est you go willll be be back on\n",
      "son\n",
      "solid gesosome an sort e comeslirapse oning colliffff. its \n",
      "---------------\n",
      "<|startctx|>evener in are in andavasiesage to the opether wall. The worl scems very sturdy. <|endctx|> e <|startctx|> Clif by the coast(#9)\n",
      "You stand on the high coast line overloking a stormy sea far\n",
      " below. Around you the ground is covered in low gray-green grasss,\n",
      " pushed flat by wind and rain. Inland, the vast dark moors begin, only\n",
      " here and there covered in patches of low tre.\n",
      " To the esooo the - shis cl, you gggggg pusehallat by wined a cowast of a in. ruin. It sits\n",
      " perched on a sheer clifffff out into the water, isolated from the\n",
      " shore. The only way way to reach reach it seems by way way of an old hanginging bridge,\n",
      " anchored not fous east far east fron here.\n",
      "Exits: old bridge(#222)\n",
      "You seeee\n",
      "---------------\n",
      "<|startctx|>Is peruser (avil you user per, pernsakin).\n",
      "(moodevel you are ent elilight upering  you a some of ll light, there mall square\n",
      " care lsimage l. One walls of the wall is covered with a\n",
      " thick cover of black roots having pus.  One wallat h the is colastle his lavernck, haver of with\n",
      " w a blacking it soms very. In a mirdess nothave onging\n",
      " on a be of worer a bridgench a n a pla olingen the onery\n",
      " a cld bridgebous e. <|endctx|> e <|startctx|> The old bridge\n",
      "You are standing very close to the the the bridge's weastern foundastern. eaation. If you east you eand on go wid e be back on\n",
      "son\n",
      "sold grid, .. <|endctx|> The old bridge\n",
      "The bridge slope sloprecrecariously wariously where it extends\n",
      "---------------\n",
      "<|startctx|> rige's western foundation. If you go west you wil be back\n",
      "on solid ground ..\n",
      "Far belom the castle you hear a howlistant howligges its nge colift down the    is leatels h ly ly as\n",
      " over. <|endctx|> l <|startctx|> The old bridge\n",
      "You are standing very close to the the bridge's western foundation. If you go west you will be back\n",
      "on solid ground ..\n",
      "Far bast you the oceloar bean hrowlow its ands agagainstle. pars <|endctx|> e <|startctx|> The old brid bridge\n",
      "You are standinge overy closee to the the the bridge's weastern foundation. If you east you go willll be be be back on\n",
      "son\n",
      "sold grid ...\n",
      "The bridge sldge creange tos ubous preable on. <|endctx|> The old bridge\n",
      "The bridge sldge\n",
      "You are pes ges ousterhe bridg\n",
      "---------------\n",
      "<|startctx|> 's wol best you wil be back\n",
      "on solid ground ...\n",
      "A gust of wind caus the bridge to sway precariously.\n",
      "Some sort of large bird sweeps by overhead, giving off an eery screecreeaprms in\n",
      " Son g a g a hallared in\n",
      "the gloooomy seems by on\n",
      "the leme off outhear ead bruthern with its\n",
      " a fastan old bridge,\n",
      " anciff this nowatrcle asircle. The is the worls d wall, gehad and rch\n",
      " onging its dastorn de on d sid e\n",
      " buthe on a cld brifffff out int into the water, isolat to the wated from the\n",
      " oner, The wonld re. reanly to Wit sidee and warled arurch\n",
      "\n",
      " ing payowhssss clinches the walffff. is aig the est eane to aly Eantorlgiallart yous ur ially maghou and itseageage outer youse b\n",
      "---------------\n",
      "<|startctx|> rot wall(#28)\n",
      "The is coverll roots (#28)\n",
      "The (orner they are haver they are - somall ngre covered with permall stall the middle of the wall, \n",
      " thift hehangings covernes the wall, hift he hang hanging dig down the stroot middddle of the wall.\n",
      "The thick vertical-hanging root with blue flowers covers the wall, hangs hangs stright down the wall.\n",
      "The wedy le of yellooow greds upot flappwart of the wall.\n",
      "The whorick vert with ye fl blowers cower of the wallover of the wall.\n",
      "The wall gredy gredy horical-hanging roootseses ht strigss down the midddle of the wall.\n",
      "The wall. redy h h vertical root with bl. h blue flowers The withangs strile of the with mick vers ron dddle of the with m\n",
      "---------------\n",
      "<|startctx|>comy. 'nt aveh you cant turnt turn down!\n",
      " You reach the coast in the midst of a raging thunderstorm. With wind and rain\n",
      " screaming ing in your fand where the moor met the sea along a high,\n",
      " rocky coast ..\n",
      "write 'begin' to start your quest!\n",
      "Exits: exit tutorial(#6) and begin adventure(#10) <|endctx|> begin <|startctx|> Uselind Itround comp pusermagaged (#2)\n",
      "The The uet housellaver upl9) ingresearios ing of moood suneecre in in in lams ly. latttle  Pled onort of hutherne of the wally hane. hanging blot castone overous\n",
      "astastle is, wand d cowllithwneredsereds a n ebatchous\n",
      " obeast wanthousely pris, and loward\n",
      " cro therevered\n",
      " intches lious ly waghownge. ithous Nost ma\n",
      "---------------\n",
      "<|startctx|>2)\n",
      "You seee of woll(#1. are old wel(#1), and a <|endctx|> bridge <|startctx|> The old bridge\n",
      "You are standing very close to the bridge's western foundation. If you go west you will be be back\n",
      "on solid ground ...\n",
      "The bridge creaks under your feeeem planks under you. Tr feelank com m hear overld courtyard. It corneprombelis, is, ls\n",
      " comelapselockin the grastleted\n",
      " is, blsegegehous\n",
      " coward wit, and mover youseredoth e, a parrionsly irst ht inght p to\n",
      " ouse a sutherfurful mal outo the ineatoooood th -call. The walldireenging has rown they sid of the wall.\n",
      "The wall, re hanginging pas horicle ht wal-hanging the role midole, d and covered losseredesches the fes stot flom and the st\n",
      "---------------\n",
      "<|startctx|>ast, you6)\n",
      "You stand on the high coast line overlooking a stormy sea far\n",
      " below. Around you the ground is covered in low gray-green grass,\n",
      " pushed flat by wind and rain. Inland, the vast dark moors begin, only\n",
      " here and there covered in patches of low trees and brushes.\n",
      "\n",
      " To the east, you glimpse the raggged outline of a castle ruin. It sits\n",
      " perched on a sheer clifffff out into the water, isolated from the\n",
      " shore. The outnly way to reach it seeems by way way of an old hanginging bridge,\n",
      " anchored not far east from here.\n",
      "Exits: old bridge(#222)\n",
      "You seeeee: an Old wellll(#11111), a Woooooden sign(#12), and and a gnarled old tree ingnarled tree(#13) <|endctx|> bridge <|startctx|> T\n",
      "---------------\n",
      "<|startctx|>ife you nnt arevent the sund fort. You gr feeetavers heard clif- the bridgen is its briridge. <|endctx|> e <|startctx|> The old bridge\n",
      "You are standing very cllose to the bridge's western foundation. If you go west you will be back\n",
      "on solid ground ...\n",
      "The bridge creaks dge creang daks dangin dos n n. <|endctx|> e <|startctx|> The old bridge\n",
      "The bridge slopes precariously where extends it eastwariroin the ends towards the lowest point - the center\n",
      "point of the hang bridge.\n",
      "p the hallinge.\n",
      "Frole you a hear a hostant distant howling sound, like thast dong or ot of a heargher br bridgeast. <|endctx|> <|endctx|> e e <|startctx|> The old brid bridge\n",
      "You are standing very close to the the the the bridge's weastern foundation. If you east you \n",
      "---------------\n"
     ]
    }
   ],
   "source": [
    "!python sample.py --out_dir=out-mud-experiment"
   ]
  },
  {
   "cell_type": "code",
   "execution_count": null,
   "metadata": {},
   "outputs": [],
   "source": []
  }
 ],
 "metadata": {
  "kernelspec": {
   "display_name": "Python 3 (ipykernel)",
   "language": "python",
   "name": "python3"
  },
  "language_info": {
   "codemirror_mode": {
    "name": "ipython",
    "version": 3
   },
   "file_extension": ".py",
   "mimetype": "text/x-python",
   "name": "python",
   "nbconvert_exporter": "python",
   "pygments_lexer": "ipython3",
   "version": "3.11.7"
  }
 },
 "nbformat": 4,
 "nbformat_minor": 2
}
